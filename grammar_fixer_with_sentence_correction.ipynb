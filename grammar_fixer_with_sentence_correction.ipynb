{
 "cells": [
  {
   "cell_type": "code",
   "execution_count": 4,
   "id": "be2836c0",
   "metadata": {},
   "outputs": [
    {
     "name": "stdout",
     "output_type": "stream",
     "text": [
      "Collecting language_tool_python\n",
      "  Downloading language_tool_python-2.7.1-py3-none-any.whl (34 kB)\n",
      "Requirement already satisfied: requests in c:\\users\\engra\\anaconda3\\lib\\site-packages (from language_tool_python) (2.28.1)\n",
      "Requirement already satisfied: tqdm in c:\\users\\engra\\anaconda3\\lib\\site-packages (from language_tool_python) (4.64.0)\n",
      "Requirement already satisfied: charset-normalizer<3,>=2 in c:\\users\\engra\\anaconda3\\lib\\site-packages (from requests->language_tool_python) (2.0.4)\n",
      "Requirement already satisfied: idna<4,>=2.5 in c:\\users\\engra\\anaconda3\\lib\\site-packages (from requests->language_tool_python) (3.3)\n",
      "Requirement already satisfied: urllib3<1.27,>=1.21.1 in c:\\users\\engra\\anaconda3\\lib\\site-packages (from requests->language_tool_python) (1.26.11)\n",
      "Requirement already satisfied: certifi>=2017.4.17 in c:\\users\\engra\\anaconda3\\lib\\site-packages (from requests->language_tool_python) (2022.9.24)\n",
      "Requirement already satisfied: colorama in c:\\users\\engra\\anaconda3\\lib\\site-packages (from tqdm->language_tool_python) (0.4.5)\n",
      "Installing collected packages: language_tool_python\n",
      "Successfully installed language_tool_python-2.7.1\n",
      "Note: you may need to restart the kernel to use updated packages.\n"
     ]
    }
   ],
   "source": [
    "pip install language_tool_python"
   ]
  },
  {
   "cell_type": "markdown",
   "id": "a1b189ce",
   "metadata": {},
   "source": [
    "Basic Grammar Fixer"
   ]
  },
  {
   "cell_type": "code",
   "execution_count": 15,
   "id": "ca6b7b54",
   "metadata": {},
   "outputs": [],
   "source": [
    "\n",
    "import docx\n",
    "import language_tool_python\n",
    "\n",
    "# Function to fix grammar in a given paragraph\n",
    "def fix_grammar(paragraph):\n",
    "    tool = language_tool_python.LanguageTool('en-US')  # LanguageTool initialization\n",
    "    matches = tool.check(paragraph.text)\n",
    "    \n",
    "    # Apply suggestions for each match in reverse order\n",
    "    for match in reversed(matches):\n",
    "        if match.replacements:\n",
    "            start = match.offset\n",
    "            end = match.offset + match.errorLength\n",
    "            suggestion = match.replacements[0]\n",
    "            paragraph.text = paragraph.text[:start] + suggestion + paragraph.text[end:]\n",
    "    \n",
    "    return paragraph.text\n",
    "\n",
    "# Function to fix grammar in a Word file and save it to a new file\n",
    "def fix_grammar_in_file(input_file, output_file):\n",
    "    doc = docx.Document(input_file)\n",
    "    new_doc = docx.Document()  # Create a new Word document\n",
    "\n",
    "    for paragraph in doc.paragraphs:\n",
    "        fixed_text = fix_grammar(paragraph)\n",
    "        new_doc.add_paragraph(fixed_text)\n",
    "\n",
    "    new_doc.save(output_file)\n",
    "\n",
    "# Example usage\n",
    "input_file_path = 'C:/Users/engra/Documents/Test Documents/Sample1.docx'\n",
    "output_file_path = 'C:/Users/engra/Documents/Test Documents/output_file.docx'\n",
    "fix_grammar_in_file(input_file_path, output_file_path)\n"
   ]
  },
  {
   "cell_type": "markdown",
   "id": "6f9614d4",
   "metadata": {},
   "source": [
    "<div class=\"girk\">\n",
    "sentence corrrection with english grammar fixer code</div><i class=\"fa fa-lightbulb-o \"></i>"
   ]
  },
  {
   "cell_type": "markdown",
   "id": "23e97e37",
   "metadata": {},
   "source": [
    "Optimization for faster response"
   ]
  },
  {
   "cell_type": "code",
   "execution_count": 3,
   "id": "12893c85",
   "metadata": {
    "ExecuteTime": {
     "end_time": "2023-06-05T08:05:22.388476Z",
     "start_time": "2023-06-05T08:05:05.211457Z"
    }
   },
   "outputs": [],
   "source": [
    "import docx\n",
    "from language_tool_python import LanguageTool\n",
    "\n",
    "# Function to fix grammar and sentences in a given paragraph\n",
    "def fix_paragraph(paragraph):\n",
    "    tool = LanguageTool('en-US')  # LanguageTool initialization\n",
    "    matches = tool.check(paragraph.text)\n",
    "    \n",
    "    # Fix grammar errors\n",
    "    for match in reversed(matches):\n",
    "        if match.replacements:\n",
    "            start = match.offset\n",
    "            end = match.offset + match.errorLength\n",
    "            suggestion = match.replacements[0]\n",
    "            paragraph.text = paragraph.text[:start] + suggestion + paragraph.text[end:]\n",
    "\n",
    "    return paragraph.text\n",
    "\n",
    "# Function to fix grammar and sentences in a Word file and save it to a new file\n",
    "def fix_grammar_in_file(input_file, output_file):\n",
    "    doc = docx.Document(input_file)\n",
    "    new_doc = docx.Document()  # Create a new Word document\n",
    "\n",
    "    for paragraph in doc.paragraphs:\n",
    "        fixed_text = fix_paragraph(paragraph)\n",
    "        new_doc.add_paragraph(fixed_text)\n",
    "\n",
    "    new_doc.save(output_file)\n",
    "\n",
    "# Example usage\n",
    "input_file_path = 'C:/Users/engra/Documents/Test Documents/Sample1.docx'\n",
    "output_file_path = 'C:/Users/engra/Documents/Test Documents/output_file.docx'\n",
    "fix_grammar_in_file(input_file_path, output_file_path)"
   ]
  },
  {
   "cell_type": "code",
   "execution_count": null,
   "id": "e5d2e739",
   "metadata": {},
   "outputs": [],
   "source": []
  }
 ],
 "metadata": {
  "kernelspec": {
   "display_name": "Python 3 (ipykernel)",
   "language": "python",
   "name": "python3"
  },
  "language_info": {
   "codemirror_mode": {
    "name": "ipython",
    "version": 3
   },
   "file_extension": ".py",
   "mimetype": "text/x-python",
   "name": "python",
   "nbconvert_exporter": "python",
   "pygments_lexer": "ipython3",
   "version": "3.9.12"
  }
 },
 "nbformat": 4,
 "nbformat_minor": 5
}
